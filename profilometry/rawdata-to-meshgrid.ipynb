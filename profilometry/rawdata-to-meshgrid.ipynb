{
 "cells": [
  {
   "cell_type": "markdown",
   "metadata": {},
   "source": [
    "This is notebook is to convert the raw data to meshgrid (11mm X 11mm) and center the image"
   ]
  },
  {
   "cell_type": "code",
   "execution_count": null,
   "metadata": {},
   "outputs": [],
   "source": [
    "import numpy as np\n",
    "import matplotlib.pyplot as plt\n",
    "%matplotlib inline"
   ]
  },
  {
   "cell_type": "code",
   "execution_count": null,
   "metadata": {},
   "outputs": [],
   "source": [
    "# change the directory name and file \n",
    "folder = '/raw-data/'\n",
    "file = '3mm-float-9.3mg'\n",
    "data = np.loadtxt(folder + file + '.txt')"
   ]
  },
  {
   "cell_type": "code",
   "execution_count": null,
   "metadata": {},
   "outputs": [],
   "source": [
    "## find the center position\n",
    "plt.figure(figsize=(5,5))\n",
    "plt.scatter(data[:,0], data[:,1])\n",
    "max_height = np.max(data[:,2])\n",
    "min_height = np.min(data[:,2])\n",
    "print(max_height)\n",
    "print(min_height)\n",
    "index_z = np.where((data[:,2] > min_height + 2) & (data[:,2] < max_height-0.5))\n",
    "wall = data[index_z[0]]\n",
    "plt.figure(figsize=(5,5))\n",
    "plt.scatter(wall[:,0], wall[:,1])\n",
    "x_center = 0.2\n",
    "y_center = 6.3\n",
    "plt.scatter(x_center, y_center,  s=28000, facecolors='none', edgecolors='r')\n",
    "plt.scatter(x_center, y_center,  s=58000, facecolors='none', edgecolors='black')"
   ]
  },
  {
   "cell_type": "code",
   "execution_count": null,
   "metadata": {
    "scrolled": true
   },
   "outputs": [],
   "source": [
    "nx = 110\n",
    "ny = 110\n",
    "x = np.linspace(x_center-5.5, x_center+5.5, nx)\n",
    "y = np.linspace(y_center-5.5, y_center+5.5, ny)\n",
    "xx, yy = np.meshgrid(x, y)\n",
    "z = np.zeros((ny, nx))\n",
    "delta_x = x[1] - x[0]\n",
    "delta_y = y[1] - y[0]\n",
    "for i in range(nx):\n",
    "    for j in range(ny):        \n",
    "        index1 = np.where((data[:, 0]> x[i]-0.5*delta_x) & (data[:, 0] < x[i]+0.5*delta_x))\n",
    "        grid = data[index1[0]]\n",
    "        index2 = np.where((grid[:, 1] > y[j]-0.5*delta_y) & (grid[:,1] < y[j]+0.5*delta_y))\n",
    "        grid = grid[index2[0]]\n",
    "        height = np.average(grid[:, 2])\n",
    "        z[j, i] = height\n",
    "        if np.isnan(height):\n",
    "            z[j,i] = (z[j-1, i] + z[j, i-1])/2            \n",
    "#save the data, change folder \n",
    "# save_folder = 'process-data/2020-03-10/'\n",
    "# np.savetxt(save_folder + file + '-x.txt', x-x_center+5.5)\n",
    "# np.savetxt(save_folder + file + '-y.txt', y-y_center+5.5)\n",
    "# np.savetxt(save_folder + file + '-z.txt', z)"
   ]
  },
  {
   "cell_type": "code",
   "execution_count": null,
   "metadata": {},
   "outputs": [],
   "source": [
    "plt.figure(figsize=(6,6))\n",
    "plt.contourf(x,y,z)\n",
    "plt.show"
   ]
  }
 ],
 "metadata": {
  "kernelspec": {
   "display_name": "Python 3",
   "language": "python",
   "name": "python3"
  },
  "language_info": {
   "codemirror_mode": {
    "name": "ipython",
    "version": 3
   },
   "file_extension": ".py",
   "mimetype": "text/x-python",
   "name": "python",
   "nbconvert_exporter": "python",
   "pygments_lexer": "ipython3",
   "version": "3.7.4"
  }
 },
 "nbformat": 4,
 "nbformat_minor": 4
}
